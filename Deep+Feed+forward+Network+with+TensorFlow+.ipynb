{
 "cells": [
  {
   "cell_type": "code",
   "execution_count": 1,
   "metadata": {},
   "outputs": [
    {
     "name": "stderr",
     "output_type": "stream",
     "text": [
      "Using TensorFlow backend.\n"
     ]
    }
   ],
   "source": [
    "import tensorflow as tf\n",
    "import keras as keras"
   ]
  },
  {
   "cell_type": "code",
   "execution_count": null,
   "metadata": {},
   "outputs": [],
   "source": [
    "## IMPLEMENTING FEEDFORWARD NETWORKS WITH TENSORFLOW\n",
    "#ANALYSETHE IRIS DATASET USING FEEDFORWARD NETWORK\n"
   ]
  },
  {
   "cell_type": "code",
   "execution_count": 10,
   "metadata": {
    "collapsed": true
   },
   "outputs": [],
   "source": [
    "def load_iris_data():\n",
    "    from numpy import genfromtxt\n",
    "    data = genfromtxt('iris.csv', delimiter =',')\n",
    "    target = genfromtxt('target.csv', delimiter = ',').astype(int)\n",
    "    ## prepend the columns of 1s for bias\n",
    "    L,W = data.shape\n",
    "    all_x = np.ones((L, W + 1))\n",
    "    all_X[:, 1:] = data\n",
    "    num_labels = len(np.unique(target))\n",
    "    all_y = np.eye(num_labels)[target]\n",
    "    return train_test_split(all_x, all_y, test_size = 0.33, random_state = RANDOMSEED)"
   ]
  },
  {
   "cell_type": "code",
   "execution_count": null,
   "metadata": {},
   "outputs": [],
   "source": []
  },
  {
   "cell_type": "code",
   "execution_count": null,
   "metadata": {
    "collapsed": true
   },
   "outputs": [],
   "source": []
  }
 ],
 "metadata": {
  "kernelspec": {
   "display_name": "Python 3",
   "language": "python",
   "name": "python3"
  },
  "language_info": {
   "codemirror_mode": {
    "name": "ipython",
    "version": 3
   },
   "file_extension": ".py",
   "mimetype": "text/x-python",
   "name": "python",
   "nbconvert_exporter": "python",
   "pygments_lexer": "ipython3",
   "version": "3.6.3"
  }
 },
 "nbformat": 4,
 "nbformat_minor": 2
}
